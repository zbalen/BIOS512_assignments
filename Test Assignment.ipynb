{
 "cells": [
  {
   "cell_type": "code",
   "execution_count": 2,
   "id": "61b3f580-c465-4067-8256-c8a8f33f11fb",
   "metadata": {
    "tags": []
   },
   "outputs": [
    {
     "name": "stderr",
     "output_type": "stream",
     "text": [
      "Warning message:\n",
      "“Failed to locate timezone database”\n",
      "── \u001b[1mAttaching core tidyverse packages\u001b[22m ──────────────────────── tidyverse 2.0.0 ──\n",
      "\u001b[32m✔\u001b[39m \u001b[34mdplyr    \u001b[39m 1.1.3     \u001b[32m✔\u001b[39m \u001b[34mreadr    \u001b[39m 2.1.4\n",
      "\u001b[32m✔\u001b[39m \u001b[34mforcats  \u001b[39m 1.0.0     \u001b[32m✔\u001b[39m \u001b[34mstringr  \u001b[39m 1.5.0\n",
      "\u001b[32m✔\u001b[39m \u001b[34mggplot2  \u001b[39m 3.4.3     \u001b[32m✔\u001b[39m \u001b[34mtibble   \u001b[39m 3.2.1\n",
      "\u001b[32m✔\u001b[39m \u001b[34mlubridate\u001b[39m 1.9.2     \u001b[32m✔\u001b[39m \u001b[34mtidyr    \u001b[39m 1.3.0\n",
      "\u001b[32m✔\u001b[39m \u001b[34mpurrr    \u001b[39m 1.0.2     \n",
      "── \u001b[1mConflicts\u001b[22m ────────────────────────────────────────── tidyverse_conflicts() ──\n",
      "\u001b[31m✖\u001b[39m \u001b[34mdplyr\u001b[39m::\u001b[32mfilter()\u001b[39m masks \u001b[34mstats\u001b[39m::filter()\n",
      "\u001b[31m✖\u001b[39m \u001b[34mdplyr\u001b[39m::\u001b[32mlag()\u001b[39m    masks \u001b[34mstats\u001b[39m::lag()\n",
      "\u001b[36mℹ\u001b[39m Use the conflicted package (\u001b[3m\u001b[34m<http://conflicted.r-lib.org/>\u001b[39m\u001b[23m) to force all conflicts to become errors\n"
     ]
    }
   ],
   "source": [
    "library('tidyverse')"
   ]
  },
  {
   "cell_type": "code",
   "execution_count": 3,
   "id": "16b36aae-4b7e-4c68-bd8b-f78aaacb1ca2",
   "metadata": {
    "tags": []
   },
   "outputs": [
    {
     "data": {
      "text/html": [
       "<table class=\"dataframe\">\n",
       "<caption>A tibble: 6 × 11</caption>\n",
       "<thead>\n",
       "\t<tr><th scope=col>manufacturer</th><th scope=col>model</th><th scope=col>displ</th><th scope=col>year</th><th scope=col>cyl</th><th scope=col>trans</th><th scope=col>drv</th><th scope=col>cty</th><th scope=col>hwy</th><th scope=col>fl</th><th scope=col>class</th></tr>\n",
       "\t<tr><th scope=col>&lt;chr&gt;</th><th scope=col>&lt;chr&gt;</th><th scope=col>&lt;dbl&gt;</th><th scope=col>&lt;int&gt;</th><th scope=col>&lt;int&gt;</th><th scope=col>&lt;chr&gt;</th><th scope=col>&lt;chr&gt;</th><th scope=col>&lt;int&gt;</th><th scope=col>&lt;int&gt;</th><th scope=col>&lt;chr&gt;</th><th scope=col>&lt;chr&gt;</th></tr>\n",
       "</thead>\n",
       "<tbody>\n",
       "\t<tr><td>audi</td><td>a4</td><td>1.8</td><td>1999</td><td>4</td><td>auto(l5)  </td><td>f</td><td>18</td><td>29</td><td>p</td><td>compact</td></tr>\n",
       "\t<tr><td>audi</td><td>a4</td><td>1.8</td><td>1999</td><td>4</td><td>manual(m5)</td><td>f</td><td>21</td><td>29</td><td>p</td><td>compact</td></tr>\n",
       "\t<tr><td>audi</td><td>a4</td><td>2.0</td><td>2008</td><td>4</td><td>manual(m6)</td><td>f</td><td>20</td><td>31</td><td>p</td><td>compact</td></tr>\n",
       "\t<tr><td>audi</td><td>a4</td><td>2.0</td><td>2008</td><td>4</td><td>auto(av)  </td><td>f</td><td>21</td><td>30</td><td>p</td><td>compact</td></tr>\n",
       "\t<tr><td>audi</td><td>a4</td><td>2.8</td><td>1999</td><td>6</td><td>auto(l5)  </td><td>f</td><td>16</td><td>26</td><td>p</td><td>compact</td></tr>\n",
       "\t<tr><td>audi</td><td>a4</td><td>2.8</td><td>1999</td><td>6</td><td>manual(m5)</td><td>f</td><td>18</td><td>26</td><td>p</td><td>compact</td></tr>\n",
       "</tbody>\n",
       "</table>\n"
      ],
      "text/latex": [
       "A tibble: 6 × 11\n",
       "\\begin{tabular}{lllllllllll}\n",
       " manufacturer & model & displ & year & cyl & trans & drv & cty & hwy & fl & class\\\\\n",
       " <chr> & <chr> & <dbl> & <int> & <int> & <chr> & <chr> & <int> & <int> & <chr> & <chr>\\\\\n",
       "\\hline\n",
       "\t audi & a4 & 1.8 & 1999 & 4 & auto(l5)   & f & 18 & 29 & p & compact\\\\\n",
       "\t audi & a4 & 1.8 & 1999 & 4 & manual(m5) & f & 21 & 29 & p & compact\\\\\n",
       "\t audi & a4 & 2.0 & 2008 & 4 & manual(m6) & f & 20 & 31 & p & compact\\\\\n",
       "\t audi & a4 & 2.0 & 2008 & 4 & auto(av)   & f & 21 & 30 & p & compact\\\\\n",
       "\t audi & a4 & 2.8 & 1999 & 6 & auto(l5)   & f & 16 & 26 & p & compact\\\\\n",
       "\t audi & a4 & 2.8 & 1999 & 6 & manual(m5) & f & 18 & 26 & p & compact\\\\\n",
       "\\end{tabular}\n"
      ],
      "text/markdown": [
       "\n",
       "A tibble: 6 × 11\n",
       "\n",
       "| manufacturer &lt;chr&gt; | model &lt;chr&gt; | displ &lt;dbl&gt; | year &lt;int&gt; | cyl &lt;int&gt; | trans &lt;chr&gt; | drv &lt;chr&gt; | cty &lt;int&gt; | hwy &lt;int&gt; | fl &lt;chr&gt; | class &lt;chr&gt; |\n",
       "|---|---|---|---|---|---|---|---|---|---|---|\n",
       "| audi | a4 | 1.8 | 1999 | 4 | auto(l5)   | f | 18 | 29 | p | compact |\n",
       "| audi | a4 | 1.8 | 1999 | 4 | manual(m5) | f | 21 | 29 | p | compact |\n",
       "| audi | a4 | 2.0 | 2008 | 4 | manual(m6) | f | 20 | 31 | p | compact |\n",
       "| audi | a4 | 2.0 | 2008 | 4 | auto(av)   | f | 21 | 30 | p | compact |\n",
       "| audi | a4 | 2.8 | 1999 | 6 | auto(l5)   | f | 16 | 26 | p | compact |\n",
       "| audi | a4 | 2.8 | 1999 | 6 | manual(m5) | f | 18 | 26 | p | compact |\n",
       "\n"
      ],
      "text/plain": [
       "  manufacturer model displ year cyl trans      drv cty hwy fl class  \n",
       "1 audi         a4    1.8   1999 4   auto(l5)   f   18  29  p  compact\n",
       "2 audi         a4    1.8   1999 4   manual(m5) f   21  29  p  compact\n",
       "3 audi         a4    2.0   2008 4   manual(m6) f   20  31  p  compact\n",
       "4 audi         a4    2.0   2008 4   auto(av)   f   21  30  p  compact\n",
       "5 audi         a4    2.8   1999 6   auto(l5)   f   16  26  p  compact\n",
       "6 audi         a4    2.8   1999 6   manual(m5) f   18  26  p  compact"
      ]
     },
     "metadata": {},
     "output_type": "display_data"
    }
   ],
   "source": [
    "mpg |> head()"
   ]
  },
  {
   "cell_type": "code",
   "execution_count": 5,
   "id": "daa972a5-1d41-4304-883d-835cdbe4a239",
   "metadata": {
    "tags": []
   },
   "outputs": [
    {
     "data": {
      "image/png": "[encoded data removed]",
      "text/plain": [
       "plot without title"
      ]
     },
     "metadata": {
      "image/png": {
       "height": 420,
       "width": 420
      }
     },
     "output_type": "display_data"
    }
   ],
   "source": [
    "ggplot(mpg, aes(x = hwy, y = displ)) + geom_point()"
   ]
  }
 ],
 "metadata": {
  "kernelspec": {
   "display_name": "bios512:R",
   "language": "R",
   "name": "conda-env-bios512-r"
  },
  "language_info": {
   "codemirror_mode": "r",
   "file_extension": ".r",
   "mimetype": "text/x-r-source",
   "name": "R",
   "pygments_lexer": "r",
   "version": "4.3.1"
  }
 },
 "nbformat": 4,
 "nbformat_minor": 5
}
